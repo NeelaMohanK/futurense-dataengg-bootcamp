{
 "cells": [
  {
   "cell_type": "code",
   "execution_count": 1,
   "id": "5d15fafb",
   "metadata": {},
   "outputs": [],
   "source": [
    "import findspark\n",
    "findspark.init()"
   ]
  },
  {
   "cell_type": "code",
   "execution_count": 2,
   "id": "c33e1679",
   "metadata": {},
   "outputs": [],
   "source": [
    "from pyspark import SparkContext"
   ]
  },
  {
   "cell_type": "code",
   "execution_count": 3,
   "id": "458368b2",
   "metadata": {},
   "outputs": [],
   "source": [
    "sc = SparkContext()"
   ]
  },
  {
   "cell_type": "code",
   "execution_count": 8,
   "id": "4bbf1ae1",
   "metadata": {},
   "outputs": [],
   "source": [
    "rdd = sc.textFile(\"bankmarketdata.csv\")"
   ]
  },
  {
   "cell_type": "code",
   "execution_count": 9,
   "id": "cfab4657",
   "metadata": {},
   "outputs": [],
   "source": [
    "count = rdd.count()"
   ]
  },
  {
   "cell_type": "code",
   "execution_count": 11,
   "id": "179f4cc8",
   "metadata": {},
   "outputs": [],
   "source": [
    "rdd1 = rdd.map(lambda x : x.split(\",\"))\n",
    "rdd2 = rdd1.map(lambda y : y[0].split(\";\"))"
   ]
  },
  {
   "cell_type": "code",
   "execution_count": 21,
   "id": "79018f18",
   "metadata": {
    "scrolled": true
   },
   "outputs": [
    {
     "data": {
      "text/plain": [
       "['age',\n",
       " '\"job\"',\n",
       " '\"marital\"',\n",
       " '\"education\"',\n",
       " '\"default\"',\n",
       " '\"balance\"',\n",
       " '\"housing\"',\n",
       " '\"loan\"',\n",
       " '\"contact\"',\n",
       " '\"day\"',\n",
       " '\"month\"',\n",
       " '\"duration\"',\n",
       " '\"campaign\"',\n",
       " '\"pdays\"',\n",
       " '\"previous\"',\n",
       " '\"poutcome\"',\n",
       " '\"y\"']"
      ]
     },
     "execution_count": 21,
     "metadata": {},
     "output_type": "execute_result"
    }
   ],
   "source": [
    "rdd2.collect()[0]"
   ]
  },
  {
   "cell_type": "code",
   "execution_count": 13,
   "id": "9ef09fd7",
   "metadata": {},
   "outputs": [],
   "source": [
    "rdd3 = rdd2.filter(lambda x : x[-1] == '\"yes\"')\n",
    "count_yes = rdd3.count()"
   ]
  },
  {
   "cell_type": "code",
   "execution_count": 14,
   "id": "f223e2dc",
   "metadata": {},
   "outputs": [
    {
     "data": {
      "text/plain": [
       "11.698221711050163"
      ]
     },
     "execution_count": 14,
     "metadata": {},
     "output_type": "execute_result"
    }
   ],
   "source": [
    "success_rate = count_yes/count\n",
    "success_rate*100"
   ]
  },
  {
   "cell_type": "code",
   "execution_count": 15,
   "id": "97ab01de",
   "metadata": {},
   "outputs": [],
   "source": [
    "rdd4 = rdd2.filter(lambda x : x[-1] == '\"no\"')\n",
    "count_no = rdd4.count()"
   ]
  },
  {
   "cell_type": "code",
   "execution_count": 16,
   "id": "2e4b89a2",
   "metadata": {},
   "outputs": [
    {
     "data": {
      "text/plain": [
       "88.29956648677341"
      ]
     },
     "execution_count": 16,
     "metadata": {},
     "output_type": "execute_result"
    }
   ],
   "source": [
    "failure_rate = count_no/count\n",
    "failure_rate*100"
   ]
  },
  {
   "cell_type": "code",
   "execution_count": 17,
   "id": "081cfdd0",
   "metadata": {},
   "outputs": [],
   "source": [
    "header = rdd2.first()\n",
    "rdd5 = rdd2.filter(lambda x : x!=header)"
   ]
  },
  {
   "cell_type": "code",
   "execution_count": 22,
   "id": "51a771fa",
   "metadata": {},
   "outputs": [
    {
     "data": {
      "text/plain": [
       "['58',\n",
       " '\"management\"',\n",
       " '\"married\"',\n",
       " '\"tertiary\"',\n",
       " '\"no\"',\n",
       " '2143',\n",
       " '\"yes\"',\n",
       " '\"no\"',\n",
       " '\"unknown\"',\n",
       " '5',\n",
       " '\"may\"',\n",
       " '261',\n",
       " '1',\n",
       " '-1',\n",
       " '0',\n",
       " '\"unknown\"',\n",
       " '\"no\"']"
      ]
     },
     "execution_count": 22,
     "metadata": {},
     "output_type": "execute_result"
    }
   ],
   "source": [
    "rdd5.collect()[0]"
   ]
  },
  {
   "cell_type": "code",
   "execution_count": 71,
   "id": "3b60ee70",
   "metadata": {},
   "outputs": [],
   "source": [
    "rdd6 = rdd5.map(lambda x : int(x[0]))"
   ]
  },
  {
   "cell_type": "code",
   "execution_count": 73,
   "id": "d7812449",
   "metadata": {},
   "outputs": [
    {
     "data": {
      "text/plain": [
       "95"
      ]
     },
     "execution_count": 73,
     "metadata": {},
     "output_type": "execute_result"
    }
   ],
   "source": [
    "rdd6.max()"
   ]
  },
  {
   "cell_type": "code",
   "execution_count": 75,
   "id": "519eb085",
   "metadata": {},
   "outputs": [
    {
     "data": {
      "text/plain": [
       "18"
      ]
     },
     "execution_count": 75,
     "metadata": {},
     "output_type": "execute_result"
    }
   ],
   "source": [
    "rdd6.min()"
   ]
  },
  {
   "cell_type": "code",
   "execution_count": 76,
   "id": "706726d6",
   "metadata": {},
   "outputs": [
    {
     "data": {
      "text/plain": [
       "40.93621021432841"
      ]
     },
     "execution_count": 76,
     "metadata": {},
     "output_type": "execute_result"
    }
   ],
   "source": [
    "rdd6.mean()"
   ]
  },
  {
   "cell_type": "code",
   "execution_count": 136,
   "id": "c9eb5818",
   "metadata": {},
   "outputs": [],
   "source": [
    "rdd7 = rdd5.map(lambda x : int(x[5])).sortBy(lambda y: y)"
   ]
  },
  {
   "cell_type": "code",
   "execution_count": 137,
   "id": "1a3691ac",
   "metadata": {},
   "outputs": [
    {
     "data": {
      "text/plain": [
       "1362.272057685074"
      ]
     },
     "execution_count": 137,
     "metadata": {},
     "output_type": "execute_result"
    }
   ],
   "source": [
    "rdd7.mean()"
   ]
  },
  {
   "cell_type": "code",
   "execution_count": 139,
   "id": "8aa1cd5f",
   "metadata": {},
   "outputs": [
    {
     "data": {
      "text/plain": [
       "448"
      ]
     },
     "execution_count": 139,
     "metadata": {},
     "output_type": "execute_result"
    }
   ],
   "source": [
    "median = rdd7.count()//2\n",
    "rdd7.collect()[median]"
   ]
  },
  {
   "cell_type": "code",
   "execution_count": 28,
   "id": "47a178c9",
   "metadata": {
    "scrolled": true
   },
   "outputs": [
    {
     "data": {
      "text/plain": [
       "[('56', 68),\n",
       " ('54', 84),\n",
       " ('60', 98),\n",
       " ('34', 198),\n",
       " ('45', 106),\n",
       " ('53', 85),\n",
       " ('29', 171),\n",
       " ('26', 134),\n",
       " ('40', 116),\n",
       " ('33', 210),\n",
       " ('24', 68),\n",
       " ('48', 82),\n",
       " ('57', 78),\n",
       " ('44', 93),\n",
       " ('50', 72),\n",
       " ('68', 21),\n",
       " ('22', 40),\n",
       " ('69', 17),\n",
       " ('64', 35),\n",
       " ('66', 24),\n",
       " ('21', 22),\n",
       " ('63', 30),\n",
       " ('73', 24),\n",
       " ('74', 13),\n",
       " ('83', 6),\n",
       " ('70', 17),\n",
       " ('77', 22),\n",
       " ('19', 11),\n",
       " ('20', 15),\n",
       " ('82', 8),\n",
       " ('86', 4),\n",
       " ('84', 5),\n",
       " ('93', 2),\n",
       " ('59', 88),\n",
       " ('41', 120),\n",
       " ('55', 76),\n",
       " ('42', 111),\n",
       " ('39', 143),\n",
       " ('37', 170),\n",
       " ('28', 162),\n",
       " ('30', 217),\n",
       " ('36', 195),\n",
       " ('38', 144),\n",
       " ('46', 118),\n",
       " ('31', 206),\n",
       " ('35', 209),\n",
       " ('32', 221),\n",
       " ('49', 101),\n",
       " ('43', 103),\n",
       " ('23', 44),\n",
       " ('52', 85),\n",
       " ('51', 77),\n",
       " ('27', 141),\n",
       " ('47', 113),\n",
       " ('25', 113),\n",
       " ('58', 72),\n",
       " ('61', 57),\n",
       " ('62', 39),\n",
       " ('75', 15),\n",
       " ('85', 4),\n",
       " ('72', 24),\n",
       " ('90', 2),\n",
       " ('67', 23),\n",
       " ('71', 25),\n",
       " ('65', 21),\n",
       " ('79', 10),\n",
       " ('76', 16),\n",
       " ('78', 14),\n",
       " ('95', 1),\n",
       " ('18', 7),\n",
       " ('87', 3),\n",
       " ('92', 2),\n",
       " ('81', 6),\n",
       " ('80', 12)]"
      ]
     },
     "execution_count": 28,
     "metadata": {},
     "output_type": "execute_result"
    }
   ],
   "source": [
    "rdd8 = rdd3.map(lambda x : (x[0], 1)).groupByKey().mapValues(list)\n",
    "rdd8.map(lambda x : (x[0], len(x[1]))).collect()"
   ]
  },
  {
   "cell_type": "code",
   "execution_count": 29,
   "id": "0e09d875",
   "metadata": {},
   "outputs": [
    {
     "data": {
      "text/plain": [
       "[('\"single\"', 1912), ('\"married\"', 2755), ('\"divorced\"', 622)]"
      ]
     },
     "execution_count": 29,
     "metadata": {},
     "output_type": "execute_result"
    }
   ],
   "source": [
    "rdd9 = rdd3.map(lambda x : (x[2], 1)).groupByKey().mapValues(list)\n",
    "rdd9.map(lambda x : (x[0], len(x[1]))).collect()"
   ]
  },
  {
   "cell_type": "code",
   "execution_count": 30,
   "id": "4a60aa6d",
   "metadata": {},
   "outputs": [
    {
     "data": {
      "text/plain": [
       "[(('59', '\"married\"'), 66),\n",
       " (('41', '\"married\"'), 72),\n",
       " (('55', '\"married\"'), 50),\n",
       " (('37', '\"married\"'), 98),\n",
       " (('55', '\"divorced\"'), 26),\n",
       " (('30', '\"married\"'), 59),\n",
       " (('36', '\"married\"'), 100),\n",
       " (('39', '\"married\"'), 87),\n",
       " (('35', '\"divorced\"'), 24),\n",
       " (('49', '\"married\"'), 71),\n",
       " (('49', '\"divorced\"'), 16),\n",
       " (('28', '\"divorced\"'), 4),\n",
       " (('43', '\"divorced\"'), 15),\n",
       " (('43', '\"married\"'), 62),\n",
       " (('46', '\"married\"'), 80),\n",
       " (('31', '\"married\"'), 80),\n",
       " (('32', '\"married\"'), 87),\n",
       " (('26', '\"single\"'), 121),\n",
       " (('35', '\"married\"'), 101),\n",
       " (('38', '\"married\"'), 86),\n",
       " (('24', '\"single\"'), 58),\n",
       " (('52', '\"married\"'), 67),\n",
       " (('37', '\"divorced\"'), 15),\n",
       " (('39', '\"divorced\"'), 16),\n",
       " (('40', '\"single\"'), 31),\n",
       " (('51', '\"married\"'), 59),\n",
       " (('41', '\"divorced\"'), 17),\n",
       " (('52', '\"divorced\"'), 10),\n",
       " (('60', '\"single\"'), 4),\n",
       " (('42', '\"divorced\"'), 19),\n",
       " (('29', '\"single\"'), 133),\n",
       " (('33', '\"single\"'), 97),\n",
       " (('54', '\"single\"'), 8),\n",
       " (('47', '\"married\"'), 83),\n",
       " (('34', '\"single\"'), 69),\n",
       " (('27', '\"married\"'), 29),\n",
       " (('38', '\"divorced\"'), 20),\n",
       " (('31', '\"divorced\"'), 15),\n",
       " (('25', '\"married\"'), 14),\n",
       " (('28', '\"married\"'), 20),\n",
       " (('44', '\"single\"'), 24),\n",
       " (('46', '\"divorced\"'), 25),\n",
       " (('45', '\"single\"'), 14),\n",
       " (('53', '\"single\"'), 7),\n",
       " (('42', '\"married\"'), 70),\n",
       " (('47', '\"divorced\"'), 10),\n",
       " (('30', '\"divorced\"'), 7),\n",
       " (('59', '\"divorced\"'), 16),\n",
       " (('58', '\"married\"'), 54),\n",
       " (('58', '\"divorced\"'), 17),\n",
       " (('36', '\"divorced\"'), 24),\n",
       " (('48', '\"single\"'), 15),\n",
       " (('51', '\"divorced\"'), 10),\n",
       " (('57', '\"single\"'), 5),\n",
       " (('32', '\"divorced\"'), 10),\n",
       " (('56', '\"single\"'), 6),\n",
       " (('27', '\"divorced\"'), 2),\n",
       " (('50', '\"single\"'), 4),\n",
       " (('61', '\"married\"'), 47),\n",
       " (('62', '\"married\"'), 34),\n",
       " (('75', '\"divorced\"'), 3),\n",
       " (('22', '\"single\"'), 40),\n",
       " (('85', '\"married\"'), 3),\n",
       " (('72', '\"married\"'), 23),\n",
       " (('90', '\"divorced\"'), 2),\n",
       " (('67', '\"married\"'), 15),\n",
       " (('71', '\"married\"'), 17),\n",
       " (('21', '\"single\"'), 21),\n",
       " (('62', '\"divorced\"'), 5),\n",
       " (('65', '\"married\"'), 19),\n",
       " (('75', '\"married\"'), 12),\n",
       " (('85', '\"divorced\"'), 1),\n",
       " (('79', '\"married\"'), 8),\n",
       " (('76', '\"divorced\"'), 6),\n",
       " (('19', '\"single\"'), 11),\n",
       " (('20', '\"single\"'), 14),\n",
       " (('61', '\"divorced\"'), 9),\n",
       " (('78', '\"married\"'), 8),\n",
       " (('95', '\"divorced\"'), 1),\n",
       " (('65', '\"divorced\"'), 2),\n",
       " (('76', '\"married\"'), 10),\n",
       " (('23', '\"married\"'), 2),\n",
       " (('78', '\"divorced\"'), 6),\n",
       " (('67', '\"divorced\"'), 7),\n",
       " (('71', '\"divorced\"'), 8),\n",
       " (('79', '\"divorced\"'), 2),\n",
       " (('83', '\"single\"'), 1),\n",
       " (('87', '\"divorced\"'), 1),\n",
       " (('92', '\"married\"'), 2),\n",
       " (('68', '\"single\"'), 2),\n",
       " (('81', '\"married\"'), 4),\n",
       " (('80', '\"married\"'), 11),\n",
       " (('87', '\"married\"'), 2),\n",
       " (('86', '\"single\"'), 1),\n",
       " (('81', '\"divorced\"'), 2),\n",
       " (('72', '\"divorced\"'), 1),\n",
       " (('73', '\"single\"'), 1),\n",
       " (('80', '\"divorced\"'), 1),\n",
       " (('69', '\"single\"'), 1),\n",
       " (('63', '\"single\"'), 1),\n",
       " (('56', '\"married\"'), 49),\n",
       " (('54', '\"married\"'), 52),\n",
       " (('42', '\"single\"'), 22),\n",
       " (('60', '\"divorced\"'), 21),\n",
       " (('39', '\"single\"'), 40),\n",
       " (('34', '\"married\"'), 118),\n",
       " (('28', '\"single\"'), 138),\n",
       " (('37', '\"single\"'), 57),\n",
       " (('45', '\"married\"'), 68),\n",
       " (('53', '\"divorced\"'), 18),\n",
       " (('38', '\"single\"'), 38),\n",
       " (('29', '\"married\"'), 33),\n",
       " (('46', '\"single\"'), 13),\n",
       " (('31', '\"single\"'), 111),\n",
       " (('32', '\"single\"'), 124),\n",
       " (('43', '\"single\"'), 26),\n",
       " (('35', '\"single\"'), 84),\n",
       " (('60', '\"married\"'), 73),\n",
       " (('40', '\"married\"'), 73),\n",
       " (('33', '\"divorced\"'), 16),\n",
       " (('54', '\"divorced\"'), 24),\n",
       " (('34', '\"divorced\"'), 11),\n",
       " (('23', '\"single\"'), 42),\n",
       " (('48', '\"married\"'), 51),\n",
       " (('45', '\"divorced\"'), 24),\n",
       " (('48', '\"divorced\"'), 16),\n",
       " (('41', '\"single\"'), 31),\n",
       " (('57', '\"married\"'), 58),\n",
       " (('44', '\"married\"'), 48),\n",
       " (('49', '\"single\"'), 14),\n",
       " (('50', '\"married\"'), 57),\n",
       " (('36', '\"single\"'), 71),\n",
       " (('33', '\"married\"'), 97),\n",
       " (('26', '\"married\"'), 13),\n",
       " (('27', '\"single\"'), 110),\n",
       " (('24', '\"married\"'), 10),\n",
       " (('50', '\"divorced\"'), 11),\n",
       " (('30', '\"single\"'), 151),\n",
       " (('44', '\"divorced\"'), 21),\n",
       " (('59', '\"single\"'), 6),\n",
       " (('53', '\"married\"'), 60),\n",
       " (('25', '\"single\"'), 99),\n",
       " (('56', '\"divorced\"'), 13),\n",
       " (('47', '\"single\"'), 20),\n",
       " (('51', '\"single\"'), 8),\n",
       " (('40', '\"divorced\"'), 12),\n",
       " (('29', '\"divorced\"'), 5),\n",
       " (('57', '\"divorced\"'), 15),\n",
       " (('52', '\"single\"'), 8),\n",
       " (('68', '\"divorced\"'), 6),\n",
       " (('69', '\"married\"'), 13),\n",
       " (('64', '\"married\"'), 31),\n",
       " (('66', '\"married\"'), 22),\n",
       " (('63', '\"married\"'), 25),\n",
       " (('73', '\"married\"'), 19),\n",
       " (('74', '\"married\"'), 11),\n",
       " (('64', '\"divorced\"'), 4),\n",
       " (('68', '\"married\"'), 13),\n",
       " (('83', '\"divorced\"'), 2),\n",
       " (('70', '\"married\"'), 12),\n",
       " (('77', '\"married\"'), 19),\n",
       " (('73', '\"divorced\"'), 4),\n",
       " (('77', '\"divorced\"'), 3),\n",
       " (('70', '\"divorced\"'), 5),\n",
       " (('67', '\"single\"'), 1),\n",
       " (('69', '\"divorced\"'), 3),\n",
       " (('58', '\"single\"'), 1),\n",
       " (('21', '\"married\"'), 1),\n",
       " (('83', '\"married\"'), 3),\n",
       " (('82', '\"married\"'), 5),\n",
       " (('20', '\"married\"'), 1),\n",
       " (('18', '\"single\"'), 7),\n",
       " (('61', '\"single\"'), 1),\n",
       " (('86', '\"divorced\"'), 1),\n",
       " (('84', '\"married\"'), 4),\n",
       " (('74', '\"divorced\"'), 2),\n",
       " (('63', '\"divorced\"'), 4),\n",
       " (('82', '\"divorced\"'), 3),\n",
       " (('66', '\"divorced\"'), 2),\n",
       " (('86', '\"married\"'), 2),\n",
       " (('84', '\"divorced\"'), 1),\n",
       " (('93', '\"married\"'), 2)]"
      ]
     },
     "execution_count": 30,
     "metadata": {},
     "output_type": "execute_result"
    }
   ],
   "source": [
    "#7\n",
    "rdd10 = rdd3.map(lambda x : (x[0], x[2], 1)).groupBy(lambda y : (y[0], y[1])).mapValues(list)\n",
    "rdd10.map(lambda x : (x[0], len(x[1]))).collect()"
   ]
  },
  {
   "cell_type": "code",
   "execution_count": null,
   "id": "77dfcbd8",
   "metadata": {},
   "outputs": [],
   "source": [
    "#8\n"
   ]
  }
 ],
 "metadata": {
  "kernelspec": {
   "display_name": "Python 3 (ipykernel)",
   "language": "python",
   "name": "python3"
  },
  "language_info": {
   "codemirror_mode": {
    "name": "ipython",
    "version": 3
   },
   "file_extension": ".py",
   "mimetype": "text/x-python",
   "name": "python",
   "nbconvert_exporter": "python",
   "pygments_lexer": "ipython3",
   "version": "3.8.10"
  }
 },
 "nbformat": 4,
 "nbformat_minor": 5
}
