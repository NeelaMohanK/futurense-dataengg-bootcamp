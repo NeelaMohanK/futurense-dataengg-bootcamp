{
 "cells": [
  {
   "cell_type": "code",
   "execution_count": 1,
   "id": "19b46aef",
   "metadata": {},
   "outputs": [],
   "source": [
    "import findspark\n",
    "findspark.init()\n",
    "from pyspark.sql import SparkSession"
   ]
  },
  {
   "cell_type": "code",
   "execution_count": 2,
   "id": "b0329b76",
   "metadata": {},
   "outputs": [],
   "source": [
    "spark = SparkSession.builder.appName('boradcast').getOrCreate()"
   ]
  },
  {
   "cell_type": "code",
   "execution_count": 3,
   "id": "98ad600a",
   "metadata": {},
   "outputs": [],
   "source": [
    "countries = {'IND':\"India\",'AUS':\"Australia\", 'JPN':\"Japan\"}"
   ]
  },
  {
   "cell_type": "code",
   "execution_count": 4,
   "id": "c0dacf1e",
   "metadata": {},
   "outputs": [],
   "source": [
    "broadcast_countries = spark.sparkContext.broadcast(countries)"
   ]
  },
  {
   "cell_type": "code",
   "execution_count": 5,
   "id": "70546913",
   "metadata": {},
   "outputs": [],
   "source": [
    "data = [(100,'Debit',1000.0,'IND'),(101,\"Credit\",2000.0,'IND'),\n",
    "        (102,'Debit',3000.0,'AUS'),(103,'Credit',4000.0,'JPN'),\n",
    "        (104,'Debit',5000.0,'IND'),(105,'Credit',6000.0,'AUS')]"
   ]
  },
  {
   "cell_type": "code",
   "execution_count": 6,
   "id": "a0fb6bef",
   "metadata": {},
   "outputs": [],
   "source": [
    "rdd = spark.sparkContext.parallelize(data)"
   ]
  },
  {
   "cell_type": "code",
   "execution_count": 7,
   "id": "af5890b9",
   "metadata": {},
   "outputs": [
    {
     "data": {
      "text/plain": [
       "[(100, 'Debit', 1000.0, 'IND'),\n",
       " (101, 'Credit', 2000.0, 'IND'),\n",
       " (102, 'Debit', 3000.0, 'AUS'),\n",
       " (103, 'Credit', 4000.0, 'JPN'),\n",
       " (104, 'Debit', 5000.0, 'IND'),\n",
       " (105, 'Credit', 6000.0, 'AUS')]"
      ]
     },
     "execution_count": 7,
     "metadata": {},
     "output_type": "execute_result"
    }
   ],
   "source": [
    "rdd.collect()"
   ]
  },
  {
   "cell_type": "code",
   "execution_count": 8,
   "id": "592d82da",
   "metadata": {},
   "outputs": [],
   "source": [
    "def country(code):\n",
    "    return broadcast_countries.value[code]"
   ]
  },
  {
   "cell_type": "code",
   "execution_count": 9,
   "id": "dea56212",
   "metadata": {},
   "outputs": [],
   "source": [
    "rdd1 = rdd.map(lambda x : (x[0], x[1], x[2], country(x[3])))"
   ]
  },
  {
   "cell_type": "code",
   "execution_count": 10,
   "id": "ac8778b5",
   "metadata": {},
   "outputs": [
    {
     "data": {
      "text/plain": [
       "[(100, 'Debit', 1000.0, 'India'),\n",
       " (101, 'Credit', 2000.0, 'India'),\n",
       " (102, 'Debit', 3000.0, 'Australia'),\n",
       " (103, 'Credit', 4000.0, 'Japan'),\n",
       " (104, 'Debit', 5000.0, 'India'),\n",
       " (105, 'Credit', 6000.0, 'Australia')]"
      ]
     },
     "execution_count": 10,
     "metadata": {},
     "output_type": "execute_result"
    }
   ],
   "source": [
    "rdd1.collect()"
   ]
  },
  {
   "cell_type": "code",
   "execution_count": 11,
   "id": "4d077073",
   "metadata": {},
   "outputs": [
    {
     "data": {
      "text/plain": [
       "[(('Australia', 'Debit'), [(102, 'Debit', 3000.0, 'Australia')]),\n",
       " (('Australia', 'Credit'), [(105, 'Credit', 6000.0, 'Australia')]),\n",
       " (('India', 'Debit'),\n",
       "  [(100, 'Debit', 1000.0, 'India'), (104, 'Debit', 5000.0, 'India')]),\n",
       " (('Japan', 'Credit'), [(103, 'Credit', 4000.0, 'Japan')]),\n",
       " (('India', 'Credit'), [(101, 'Credit', 2000.0, 'India')])]"
      ]
     },
     "execution_count": 11,
     "metadata": {},
     "output_type": "execute_result"
    }
   ],
   "source": [
    "rdd2 = rdd1.groupBy(lambda x : (x[3], x[1])).mapValues(list)\n",
    "rdd2.collect()"
   ]
  },
  {
   "cell_type": "code",
   "execution_count": 12,
   "id": "ab249467",
   "metadata": {},
   "outputs": [
    {
     "data": {
      "text/plain": [
       "[(('Australia', 'Debit'), 1),\n",
       " (('Australia', 'Credit'), 1),\n",
       " (('India', 'Debit'), 2),\n",
       " (('Japan', 'Credit'), 1),\n",
       " (('India', 'Credit'), 1)]"
      ]
     },
     "execution_count": 12,
     "metadata": {},
     "output_type": "execute_result"
    }
   ],
   "source": [
    "rdd2.map(lambda x :(x[0],len(x[1]))).collect()"
   ]
  },
  {
   "cell_type": "code",
   "execution_count": null,
   "id": "3486d4a8",
   "metadata": {},
   "outputs": [],
   "source": []
  },
  {
   "cell_type": "code",
   "execution_count": null,
   "id": "5ef1d00f",
   "metadata": {},
   "outputs": [],
   "source": []
  },
  {
   "cell_type": "code",
   "execution_count": null,
   "id": "cc3d3ba9",
   "metadata": {},
   "outputs": [],
   "source": []
  },
  {
   "cell_type": "code",
   "execution_count": null,
   "id": "8d0ec5bf",
   "metadata": {},
   "outputs": [],
   "source": []
  }
 ],
 "metadata": {
  "kernelspec": {
   "display_name": "Python 3 (ipykernel)",
   "language": "python",
   "name": "python3"
  },
  "language_info": {
   "codemirror_mode": {
    "name": "ipython",
    "version": 3
   },
   "file_extension": ".py",
   "mimetype": "text/x-python",
   "name": "python",
   "nbconvert_exporter": "python",
   "pygments_lexer": "ipython3",
   "version": "3.8.10"
  }
 },
 "nbformat": 4,
 "nbformat_minor": 5
}
