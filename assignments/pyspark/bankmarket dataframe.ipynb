{
 "cells": [
  {
   "cell_type": "code",
   "execution_count": 21,
   "id": "c3a52820",
   "metadata": {},
   "outputs": [],
   "source": [
    "from pyspark.sql import SparkSession\n",
    "from pyspark.sql.functions import *\n",
    "from pyspark.sql import *"
   ]
  },
  {
   "cell_type": "code",
   "execution_count": 22,
   "id": "7d0c5983",
   "metadata": {},
   "outputs": [],
   "source": [
    "spark = SparkSession.builder.appName('banking').getOrCreate()"
   ]
  },
  {
   "cell_type": "code",
   "execution_count": 23,
   "id": "5813ba5e",
   "metadata": {},
   "outputs": [],
   "source": [
    "df = spark.read.csv(path = \"bankmarketdata.csv\", header=True, sep = \";\", escape = \",\", inferSchema = True )"
   ]
  },
  {
   "cell_type": "code",
   "execution_count": 36,
   "id": "ab3ac6bf",
   "metadata": {},
   "outputs": [
    {
     "name": "stdout",
     "output_type": "stream",
     "text": [
      "+---+------------+--------+---------+-------+-------+-------+----+-------+---+-----+--------+--------+-----+--------+--------+---+\n",
      "|age|         job| marital|education|default|balance|housing|loan|contact|day|month|duration|campaign|pdays|previous|poutcome|  y|\n",
      "+---+------------+--------+---------+-------+-------+-------+----+-------+---+-----+--------+--------+-----+--------+--------+---+\n",
      "| 58|  management| married| tertiary|     no|   2143|    yes|  no|unknown|  5|  may|     261|       1|   -1|       0| unknown| no|\n",
      "| 44|  technician|  single|secondary|     no|     29|    yes|  no|unknown|  5|  may|     151|       1|   -1|       0| unknown| no|\n",
      "| 33|entrepreneur| married|secondary|     no|      2|    yes| yes|unknown|  5|  may|      76|       1|   -1|       0| unknown| no|\n",
      "| 47| blue-collar| married|  unknown|     no|   1506|    yes|  no|unknown|  5|  may|      92|       1|   -1|       0| unknown| no|\n",
      "| 33|     unknown|  single|  unknown|     no|      1|     no|  no|unknown|  5|  may|     198|       1|   -1|       0| unknown| no|\n",
      "| 35|  management| married| tertiary|     no|    231|    yes|  no|unknown|  5|  may|     139|       1|   -1|       0| unknown| no|\n",
      "| 28|  management|  single| tertiary|     no|    447|    yes| yes|unknown|  5|  may|     217|       1|   -1|       0| unknown| no|\n",
      "| 42|entrepreneur|divorced| tertiary|    yes|      2|    yes|  no|unknown|  5|  may|     380|       1|   -1|       0| unknown| no|\n",
      "| 58|     retired| married|  primary|     no|    121|    yes|  no|unknown|  5|  may|      50|       1|   -1|       0| unknown| no|\n",
      "| 43|  technician|  single|secondary|     no|    593|    yes|  no|unknown|  5|  may|      55|       1|   -1|       0| unknown| no|\n",
      "| 41|      admin.|divorced|secondary|     no|    270|    yes|  no|unknown|  5|  may|     222|       1|   -1|       0| unknown| no|\n",
      "| 29|      admin.|  single|secondary|     no|    390|    yes|  no|unknown|  5|  may|     137|       1|   -1|       0| unknown| no|\n",
      "| 53|  technician| married|secondary|     no|      6|    yes|  no|unknown|  5|  may|     517|       1|   -1|       0| unknown| no|\n",
      "| 58|  technician| married|  unknown|     no|     71|    yes|  no|unknown|  5|  may|      71|       1|   -1|       0| unknown| no|\n",
      "| 57|    services| married|secondary|     no|    162|    yes|  no|unknown|  5|  may|     174|       1|   -1|       0| unknown| no|\n",
      "| 51|     retired| married|  primary|     no|    229|    yes|  no|unknown|  5|  may|     353|       1|   -1|       0| unknown| no|\n",
      "| 45|      admin.|  single|  unknown|     no|     13|    yes|  no|unknown|  5|  may|      98|       1|   -1|       0| unknown| no|\n",
      "| 57| blue-collar| married|  primary|     no|     52|    yes|  no|unknown|  5|  may|      38|       1|   -1|       0| unknown| no|\n",
      "| 60|     retired| married|  primary|     no|     60|    yes|  no|unknown|  5|  may|     219|       1|   -1|       0| unknown| no|\n",
      "| 33|    services| married|secondary|     no|      0|    yes|  no|unknown|  5|  may|      54|       1|   -1|       0| unknown| no|\n",
      "+---+------------+--------+---------+-------+-------+-------+----+-------+---+-----+--------+--------+-----+--------+--------+---+\n",
      "only showing top 20 rows\n",
      "\n"
     ]
    }
   ],
   "source": [
    "df.show()"
   ]
  },
  {
   "cell_type": "code",
   "execution_count": 35,
   "id": "8dc4ca23",
   "metadata": {},
   "outputs": [
    {
     "data": {
      "text/plain": [
       "45211"
      ]
     },
     "execution_count": 35,
     "metadata": {},
     "output_type": "execute_result"
    }
   ],
   "source": [
    "count = df.count()\n",
    "count"
   ]
  },
  {
   "cell_type": "code",
   "execution_count": 37,
   "id": "09f55695",
   "metadata": {},
   "outputs": [],
   "source": [
    "df1 = df[df['y'] == 'yes']\n",
    "df2 = df[df['y'] == 'no']"
   ]
  },
  {
   "cell_type": "code",
   "execution_count": 27,
   "id": "50c42ee1",
   "metadata": {},
   "outputs": [],
   "source": [
    "count_yes = df1.count()"
   ]
  },
  {
   "cell_type": "code",
   "execution_count": 28,
   "id": "a3be4813",
   "metadata": {},
   "outputs": [
    {
     "data": {
      "text/plain": [
       "11.698480458295547"
      ]
     },
     "execution_count": 28,
     "metadata": {},
     "output_type": "execute_result"
    }
   ],
   "source": [
    "success_rate = count_yes/count\n",
    "success_rate*100"
   ]
  },
  {
   "cell_type": "code",
   "execution_count": 11,
   "id": "ed0b9732",
   "metadata": {},
   "outputs": [],
   "source": [
    "count_no = df2.count()"
   ]
  },
  {
   "cell_type": "code",
   "execution_count": 30,
   "id": "f229cc92",
   "metadata": {},
   "outputs": [
    {
     "data": {
      "text/plain": [
       "88.30151954170445"
      ]
     },
     "execution_count": 30,
     "metadata": {},
     "output_type": "execute_result"
    }
   ],
   "source": [
    "failurerate = count_no/count\n",
    "failurerate*100"
   ]
  },
  {
   "cell_type": "code",
   "execution_count": 31,
   "id": "66cb197b",
   "metadata": {},
   "outputs": [
    {
     "name": "stdout",
     "output_type": "stream",
     "text": [
      "+--------+\n",
      "|max(age)|\n",
      "+--------+\n",
      "|      95|\n",
      "+--------+\n",
      "\n"
     ]
    }
   ],
   "source": [
    "df.select(max(df.age)).show()"
   ]
  },
  {
   "cell_type": "code",
   "execution_count": 14,
   "id": "76e48425",
   "metadata": {},
   "outputs": [
    {
     "name": "stdout",
     "output_type": "stream",
     "text": [
      "+--------+\n",
      "|min(age)|\n",
      "+--------+\n",
      "|      18|\n",
      "+--------+\n",
      "\n"
     ]
    }
   ],
   "source": [
    "df.select(min(df.age)).show()"
   ]
  },
  {
   "cell_type": "code",
   "execution_count": 15,
   "id": "5aa12740",
   "metadata": {},
   "outputs": [
    {
     "name": "stdout",
     "output_type": "stream",
     "text": [
      "+-----------------+\n",
      "|         avg(age)|\n",
      "+-----------------+\n",
      "|40.93621021432837|\n",
      "+-----------------+\n",
      "\n"
     ]
    }
   ],
   "source": [
    "df.select(mean(df.age)).show()"
   ]
  },
  {
   "cell_type": "code",
   "execution_count": 32,
   "id": "1999cf50",
   "metadata": {},
   "outputs": [
    {
     "name": "stdout",
     "output_type": "stream",
     "text": [
      "+------------------+\n",
      "|      avg(balance)|\n",
      "+------------------+\n",
      "|1362.2720576850766|\n",
      "+------------------+\n",
      "\n"
     ]
    }
   ],
   "source": [
    "df.select(mean(df.balance)).show()"
   ]
  },
  {
   "cell_type": "code",
   "execution_count": 17,
   "id": "89a94982",
   "metadata": {},
   "outputs": [
    {
     "data": {
      "text/plain": [
       "[448.0]"
      ]
     },
     "execution_count": 17,
     "metadata": {},
     "output_type": "execute_result"
    }
   ],
   "source": [
    "df.approxQuantile('balance', [0.5], 0)"
   ]
  },
  {
   "cell_type": "code",
   "execution_count": 33,
   "id": "3a130cb0",
   "metadata": {},
   "outputs": [
    {
     "name": "stdout",
     "output_type": "stream",
     "text": [
      "+---+-----+\n",
      "|age|count|\n",
      "+---+-----+\n",
      "| 31|  206|\n",
      "| 85|    4|\n",
      "| 65|   21|\n",
      "| 53|   85|\n",
      "| 78|   14|\n",
      "| 34|  198|\n",
      "| 28|  162|\n",
      "| 76|   16|\n",
      "| 26|  134|\n",
      "| 27|  141|\n",
      "| 44|   93|\n",
      "| 22|   40|\n",
      "| 47|  113|\n",
      "| 52|   85|\n",
      "| 40|  116|\n",
      "| 20|   15|\n",
      "| 57|   78|\n",
      "| 54|   84|\n",
      "| 48|   82|\n",
      "| 19|   11|\n",
      "+---+-----+\n",
      "only showing top 20 rows\n",
      "\n"
     ]
    }
   ],
   "source": [
    "df1.groupBy('age').count().show()"
   ]
  },
  {
   "cell_type": "code",
   "execution_count": 34,
   "id": "c094eef5",
   "metadata": {},
   "outputs": [
    {
     "name": "stdout",
     "output_type": "stream",
     "text": [
      "+--------+-----+\n",
      "| marital|count|\n",
      "+--------+-----+\n",
      "|divorced|  622|\n",
      "| married| 2755|\n",
      "|  single| 1912|\n",
      "+--------+-----+\n",
      "\n"
     ]
    }
   ],
   "source": [
    "df1.groupBy('marital').count().show()"
   ]
  },
  {
   "cell_type": "code",
   "execution_count": 20,
   "id": "faf42c55",
   "metadata": {},
   "outputs": [
    {
     "name": "stdout",
     "output_type": "stream",
     "text": [
      "+---+--------+-----+\n",
      "|age| marital|count|\n",
      "+---+--------+-----+\n",
      "| 42|  single|   22|\n",
      "| 66| married|   22|\n",
      "| 28| married|   20|\n",
      "| 59| married|   66|\n",
      "| 61| married|   47|\n",
      "| 21|  single|   21|\n",
      "| 29|  single|  133|\n",
      "| 70|divorced|    5|\n",
      "| 56|  single|    6|\n",
      "| 74| married|   11|\n",
      "| 64|divorced|    4|\n",
      "| 40|  single|   31|\n",
      "| 45|  single|   14|\n",
      "| 69| married|   13|\n",
      "| 77| married|   19|\n",
      "| 57|divorced|   15|\n",
      "| 21| married|    1|\n",
      "| 53| married|   60|\n",
      "| 53|divorced|   18|\n",
      "| 33| married|   97|\n",
      "+---+--------+-----+\n",
      "only showing top 20 rows\n",
      "\n"
     ]
    }
   ],
   "source": [
    "df1.groupBy('age','marital').count().show()"
   ]
  }
 ],
 "metadata": {
  "kernelspec": {
   "display_name": "Python 3 (ipykernel)",
   "language": "python",
   "name": "python3"
  },
  "language_info": {
   "codemirror_mode": {
    "name": "ipython",
    "version": 3
   },
   "file_extension": ".py",
   "mimetype": "text/x-python",
   "name": "python",
   "nbconvert_exporter": "python",
   "pygments_lexer": "ipython3",
   "version": "3.8.10"
  }
 },
 "nbformat": 4,
 "nbformat_minor": 5
}
